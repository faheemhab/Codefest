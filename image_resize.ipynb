{
 "cells": [
  {
   "cell_type": "code",
   "execution_count": 1,
   "metadata": {
    "collapsed": true
   },
   "outputs": [],
   "source": [
    "import numpy as np\n",
    "import pandas as pd\n",
    "import cv2\n",
    "import os\n",
    "import sys\n",
    "import matplotlib.pyplot as plt\n",
    "%matplotlib inline"
   ]
  },
  {
   "cell_type": "code",
   "execution_count": 2,
   "metadata": {
    "collapsed": true
   },
   "outputs": [],
   "source": [
    "dir=['./train/shirt/','./test/shirt/','./train/not_a_shirt/','./test/not_a_shirt/']\n",
    "##counting files in directory\n",
    "channels=3\n",
    "image_size=28\n",
    "\n",
    "def make_array(dir):\n",
    "    count=0;\n",
    "    for folder in dir:\n",
    "        files=os.listdir(folder)\n",
    "        for file in files:\n",
    "            count=count+1;\n",
    "    \n",
    "    dataset=np.ndarray(shape=(count,image_size,image_size,channels), dtype=np.float32)\n",
    "    labels=np.ndarray(shape=(count), dtype=np.int32)\n",
    "    return dataset,labels"
   ]
  },
  {
   "cell_type": "code",
   "execution_count": 3,
   "metadata": {},
   "outputs": [],
   "source": [
    "dataset,labels=make_array(dir)\n",
    "num_cloth=0\n",
    "pixel_depth=255.0\n",
    "\n",
    "for i,folder in enumerate(dir):\n",
    "    files=os.listdir(folder)\n",
    "    if (i<2):\n",
    "        category=0\n",
    "    else:\n",
    "        category=1\n",
    "    for file in files:\n",
    "        c=folder+file\n",
    "        img=cv2.imread(c)\n",
    "        img=cv2.resize(img,(28,28))\n",
    "        img= img.astype(np.float32)\n",
    "        img= (np.array(img).astype(float) - \n",
    "                    pixel_depth / 2) / pixel_depth\n",
    "        dataset[num_cloth, :, :, :]=img\n",
    "        labels[num_cloth]=category\n",
    "        num_cloth=num_cloth+1\n",
    "dataset=dataset[0:num_cloth, :, :, :]\n",
    "labels=labels[0:num_cloth]"
   ]
  },
  {
   "cell_type": "code",
   "execution_count": 5,
   "metadata": {
    "collapsed": true
   },
   "outputs": [],
   "source": [
    "dataset=np.array(dataset)\n",
    "labels=np.array(labels)\n",
    "test=dataset[61,:,:,:]\n",
    "test_title=labels[61]"
   ]
  },
  {
   "cell_type": "code",
   "execution_count": 6,
   "metadata": {},
   "outputs": [
    {
     "data": {
      "text/plain": [
       "<matplotlib.text.Text at 0x11140fcf8>"
      ]
     },
     "execution_count": 6,
     "metadata": {},
     "output_type": "execute_result"
    },
    {
     "data": {
      "image/png": "[encoded data removed]",
      "text/plain": [
       "<matplotlib.figure.Figure at 0x10c348048>"
      ]
     },
     "metadata": {},
     "output_type": "display_data"
    }
   ],
   "source": [
    "plt.imshow(test)\n",
    "plt.title(test_title)"
   ]
  },
  {
   "cell_type": "code",
   "execution_count": 7,
   "metadata": {},
   "outputs": [
    {
     "data": {
      "text/plain": [
       "(62, 28, 28, 3)"
      ]
     },
     "execution_count": 7,
     "metadata": {},
     "output_type": "execute_result"
    }
   ],
   "source": [
    "dataset.shape"
   ]
  },
  {
   "cell_type": "code",
   "execution_count": 8,
   "metadata": {
    "collapsed": true
   },
   "outputs": [],
   "source": [
    "#Randomise data\n",
    "def randomise_data(dataset,labels):\n",
    "    permutation=np.random.permutation(labels.shape[0])\n",
    "    shuffled_dataset=dataset[permutation, :, :, :]\n",
    "    shuffled_labels=labels[permutation]\n",
    "    return shuffled_dataset,shuffled_labels\n",
    "\n",
    "dataset,labels=randomise_data(dataset,labels)"
   ]
  },
  {
   "cell_type": "code",
   "execution_count": 9,
   "metadata": {
    "collapsed": true
   },
   "outputs": [],
   "source": [
    "def split_data(dataset,labels):\n",
    "    setA=dataset[0:45, :, :, :]\n",
    "    labelA=labels[0:45]\n",
    "    \n",
    "    setB=dataset[45:55, :, :, :]\n",
    "    labelB=labels[45:55]\n",
    "    \n",
    "    setC=dataset[55:63, :, :, :]\n",
    "    labelC=labels[55:63]\n",
    "    \n",
    "    return setA,setB,setC,labelA,labelB,labelC\n",
    "\n",
    "train_dataset,valid_dataset,test_dataset,train_labels,valid_labels,test_labels=split_data(dataset,labels)"
   ]
  },
  {
   "cell_type": "code",
   "execution_count": 10,
   "metadata": {
    "collapsed": true
   },
   "outputs": [],
   "source": [
    "from six.moves import cPickle as pickle\n",
    "#dump it in a common .pickle file to be reused many times\n",
    "data_root='.'\n",
    "pickle_file = os.path.join(data_root, 'IMAGE_data.pickle')\n",
    "\n",
    "with open(pickle_file, 'wb') as f:\n",
    "    save = {\n",
    "    'train_dataset': train_dataset,\n",
    "    'train_labels': train_labels,\n",
    "    'valid_dataset': valid_dataset,\n",
    "    'valid_labels': valid_labels,\n",
    "    'test_dataset': test_dataset,\n",
    "    'test_labels': test_labels,\n",
    "    }\n",
    "    pickle.dump(save, f, pickle.HIGHEST_PROTOCOL)\n",
    "    f.close()"
   ]
  },
  {
   "cell_type": "code",
   "execution_count": null,
   "metadata": {
    "collapsed": true
   },
   "outputs": [],
   "source": []
  }
 ],
 "metadata": {
  "kernelspec": {
   "display_name": "Python 3",
   "language": "python",
   "name": "python3"
  },
  "language_info": {
   "codemirror_mode": {
    "name": "ipython",
    "version": 3
   },
   "file_extension": ".py",
   "mimetype": "text/x-python",
   "name": "python",
   "nbconvert_exporter": "python",
   "pygments_lexer": "ipython3",
   "version": "3.6.2"
  }
 },
 "nbformat": 4,
 "nbformat_minor": 2
}
