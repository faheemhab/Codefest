{
 "cells": [
  {
   "cell_type": "code",
   "execution_count": 1,
   "metadata": {
    "collapsed": true
   },
   "outputs": [],
   "source": [
    "from __future__ import print_function\n",
    "import os\n",
    "import sys\n",
    "import numpy as np\n",
    "import tensorflow as tf\n",
    "import matplotlib.pyplot as plt\n",
    "from six.moves import cPickle as pickle\n",
    "%matplotlib inline"
   ]
  },
  {
   "cell_type": "code",
   "execution_count": 2,
   "metadata": {},
   "outputs": [],
   "source": [
    "#load the dataset from pickle file\n",
    "fileName='Image_data.pickle'\n",
    "with open(fileName,'rb') as f:\n",
    "    data=pickle.load(f)\n",
    "    train_dataset=data['train_dataset']\n",
    "    train_labels=data['train_labels']\n",
    "    \n",
    "    valid_dataset=data['valid_dataset']\n",
    "    valid_labels=data['valid_labels']\n",
    "    \n",
    "    test_dataset=data['test_dataset']\n",
    "    test_labels=data['test_labels']\n",
    "    \n",
    "    del(data)\n",
    "    f.close()"
   ]
  },
  {
   "cell_type": "code",
   "execution_count": 3,
   "metadata": {
    "collapsed": true
   },
   "outputs": [],
   "source": [
    "#reformat the data into 4-D tensor\n",
    "cloth_channels=3\n",
    "image_size=28\n",
    "cloth_labels=2\n",
    "\n",
    "def reformat_Data(dataset,labels):\n",
    "    dataset=dataset.reshape((-1,image_size,image_size,cloth_channels)).astype(float)\n",
    "    labels=(np.arange(cloth_labels)==labels[:,None]).astype(float)\n",
    "    return dataset,labels"
   ]
  },
  {
   "cell_type": "code",
   "execution_count": 4,
   "metadata": {},
   "outputs": [],
   "source": [
    "train_dataset,train_labels=reformat_Data(train_dataset,train_labels)\n",
    "\n",
    "test_dataset,test_labels=reformat_Data(test_dataset,test_labels)\n",
    "\n",
    "valid_dataset,valid_labels=reformat_Data(valid_dataset,valid_labels)"
   ]
  },
  {
   "cell_type": "code",
   "execution_count": 6,
   "metadata": {},
   "outputs": [],
   "source": [
    "#initialize\n",
    "batch_size=16\n",
    "patch_size=5\n",
    "depth=4\n",
    "more_depth=5\n",
    "num_hidden=6\n",
    "image_size=28\n",
    "\n",
    "\n",
    "graph=tf.Graph()\n",
    "with graph.as_default():\n",
    "    tf_train_dataset=tf.placeholder(tf.float32,shape=(batch_size,image_size,image_size,cloth_channels))\n",
    "    tf_train_labels=tf.placeholder(tf.float32,shape=(batch_size,cloth_labels))\n",
    "    tf_valid_dataset=tf.constant(valid_dataset)\n",
    "    tf_test_dataset=tf.constant(test_dataset)\n",
    "    \n",
    "    # Weight and Bias Parameters\n",
    "    K=2\n",
    "    ###### Layer 1\n",
    "    w1=tf.Variable(tf.truncated_normal(shape=[patch_size,patch_size,cloth_channels,K],stddev=0.1)) ##### W[5,5,1,4] ->[,28,28,4]\n",
    "    b1=tf.Variable(tf.zeros([K]))\n",
    "    \n",
    "    ###### Layer 2\n",
    "    w2=tf.Variable(tf.truncated_normal(shape=[patch_size,patch_size,K,depth],stddev=0.1))  ##### W[5,5,4,16] ->[,14,14,16]\n",
    "    b2=tf.Variable(tf.constant(1.0,shape=[depth]))\n",
    "    \n",
    "    ###### Layer 3\n",
    "    w3=tf.Variable(tf.truncated_normal(shape=[patch_size,patch_size,depth,more_depth],stddev=0.1))  ###### W[5,5,16,16] ->[,7,7,16]\n",
    "    b3=tf.Variable(tf.constant(1.0,shape=[more_depth]))\n",
    "    \n",
    "    ###### connected Layer\n",
    "    w4=tf.Variable(tf.truncated_normal(shape=[image_size//4 * image_size//4 * more_depth,num_hidden],stddev=0.1)) ##### W[7*7*16,64] ->[,64]\n",
    "    b4=tf.Variable(tf.constant(1.0,shape=[num_hidden]))\n",
    "    \n",
    "    ###### final layer\n",
    "    w5=tf.Variable(tf.truncated_normal(shape=[num_hidden,cloth_labels],stddev=0.1)) ####### W[64,10]\n",
    "    b5=tf.Variable(tf.constant(1.0, shape=[cloth_labels]))\n",
    "    \n",
    "    \n",
    "    # Computing CNN model\n",
    "    def model(data):\n",
    "        conv1=tf.nn.relu(tf.nn.conv2d(data,w1, strides=[1,1,1,1],padding='SAME') +b1)\n",
    "        \n",
    "        conv2=tf.nn.relu(tf.nn.conv2d(conv1,w2, strides=[1,2,2,1], padding='SAME') +b2)\n",
    "        \n",
    "        conv3=tf.nn.relu(tf.nn.conv2d(conv2,w3, strides=[1,2,2,1], padding='SAME') +b3)\n",
    "        \n",
    "        conv3_shape=conv3.get_shape().as_list()\n",
    "        conv3_reshape=tf.reshape(conv3, [conv3_shape[0],conv3_shape[1]*conv3_shape[2]*conv3_shape[3]])\n",
    "        \n",
    "        #connected Layer\n",
    "        connec=tf.nn.relu(tf.matmul(conv3_reshape,w4) +b4)\n",
    "        \n",
    "        return (tf.matmul(connec,w5) +b5)\n",
    "    \n",
    "    # Train Computation\n",
    "    logits=model(tf.cast(tf_train_dataset,dtype=tf.float32))\n",
    "    loss=tf.reduce_mean(tf.nn.softmax_cross_entropy_with_logits(logits=logits, labels=tf_train_labels))\n",
    "    \n",
    "    # Optimizer\n",
    "    optimizer=tf.train.GradientDescentOptimizer(0.005).minimize(loss)\n",
    "    \n",
    "    #Predictions\n",
    "    train_prediction=tf.nn.softmax(logits)\n",
    "    test_prediction=tf.nn.softmax(model(tf.cast(tf_test_dataset,dtype=tf.float32)))\n",
    "    valid_prediction=tf.nn.softmax(model(tf.cast(tf_valid_dataset,dtype=tf.float32)))"
   ]
  },
  {
   "cell_type": "code",
   "execution_count": 7,
   "metadata": {
    "collapsed": true
   },
   "outputs": [],
   "source": [
    "#Accuracy\n",
    "\n",
    "def accuracy(predictions,labels):\n",
    "    return (100.0*np.sum(np.argmax(predictions,1)==np.argmax(labels,1))/predictions.shape[0])"
   ]
  },
  {
   "cell_type": "code",
   "execution_count": 9,
   "metadata": {},
   "outputs": [
    {
     "name": "stdout",
     "output_type": "stream",
     "text": [
      "Initialised......\n",
      "loss at 0:0.960424\n",
      "Mini Batch Accuracy:25.00%\n",
      "Validation Accuracy:30.00%\n",
      "loss at 10:0.698405\n",
      "Mini Batch Accuracy:31.25%\n",
      "Validation Accuracy:70.00%\n",
      "loss at 20:0.623455\n",
      "Mini Batch Accuracy:75.00%\n",
      "Validation Accuracy:70.00%\n",
      "loss at 30:0.587565\n",
      "Mini Batch Accuracy:75.00%\n",
      "Validation Accuracy:70.00%\n",
      "loss at 40:0.569815\n",
      "Mini Batch Accuracy:75.00%\n",
      "Validation Accuracy:70.00%\n",
      "loss at 50:0.560917\n",
      "Mini Batch Accuracy:75.00%\n",
      "Validation Accuracy:70.00%\n",
      "loss at 60:0.561982\n",
      "Mini Batch Accuracy:75.00%\n",
      "Validation Accuracy:70.00%\n",
      "loss at 70:0.559851\n",
      "Mini Batch Accuracy:75.00%\n",
      "Validation Accuracy:70.00%\n",
      "loss at 80:0.619838\n",
      "Mini Batch Accuracy:68.75%\n",
      "Validation Accuracy:70.00%\n",
      "loss at 90:0.685327\n",
      "Mini Batch Accuracy:62.50%\n",
      "Validation Accuracy:70.00%\n",
      "loss at 100:0.617018\n",
      "Mini Batch Accuracy:68.75%\n",
      "Validation Accuracy:70.00%\n",
      "------------------------------\n",
      "Test Accuracy:71.43%\n"
     ]
    }
   ],
   "source": [
    "# Iterate the model and train \n",
    "num_steps=101\n",
    "\n",
    "    \n",
    "with tf.Session(graph=graph) as sess:\n",
    "    tf.global_variables_initializer().run()\n",
    "    print(\"Initialised......\")\n",
    "    saver=tf.train.Saver()\n",
    "    for step in range(num_steps):\n",
    "        offset=np.random.randint(0,(45-batch_size))\n",
    "        \n",
    "        batch_data=train_dataset[offset:(offset+batch_size),:,:,:]\n",
    "        batch_labels=train_labels[offset:(offset+batch_size),:]\n",
    "        \n",
    "        feed_dict={tf_train_dataset:batch_data, tf_train_labels:batch_labels}\n",
    "        opt,l,pred=sess.run([optimizer,loss,train_prediction],feed_dict=feed_dict)\n",
    "        if (step%10==0):\n",
    "            print(\"loss at %d:%f\" %(step,l))\n",
    "            print(\"Mini Batch Accuracy:%.2f%%\" %accuracy(pred,batch_labels))\n",
    "            print(\"Validation Accuracy:%.2f%%\" %accuracy(valid_prediction.eval(),valid_labels))\n",
    "    print(\"-\"*30)\n",
    "    \n",
    "    print(\"Test Accuracy:%.2f%%\" %accuracy(test_prediction.eval(),test_labels))\n",
    "    saver.save(sess,'image-classify')"
   ]
  },
  {
   "cell_type": "code",
   "execution_count": null,
   "metadata": {
    "collapsed": true
   },
   "outputs": [],
   "source": []
  }
 ],
 "metadata": {
  "kernelspec": {
   "display_name": "Python 3",
   "language": "python",
   "name": "python3"
  },
  "language_info": {
   "codemirror_mode": {
    "name": "ipython",
    "version": 3
   },
   "file_extension": ".py",
   "mimetype": "text/x-python",
   "name": "python",
   "nbconvert_exporter": "python",
   "pygments_lexer": "ipython3",
   "version": "3.6.2"
  }
 },
 "nbformat": 4,
 "nbformat_minor": 2
}
