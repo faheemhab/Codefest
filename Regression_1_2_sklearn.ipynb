{
 "cells": [
  {
   "cell_type": "code",
   "execution_count": 1,
   "metadata": {
    "collapsed": true
   },
   "outputs": [],
   "source": [
    "import numpy as np\n",
    "import matplotlib.pyplot as plt\n",
    "from six.moves import cPickle as pickle\n",
    "from sklearn import ensemble\n",
    "from sklearn.metrics import mean_squared_error\n",
    "%matplotlib inline"
   ]
  },
  {
   "cell_type": "code",
   "execution_count": 2,
   "metadata": {},
   "outputs": [],
   "source": [
    "fileName='./BODY_dataset.pickle'\n",
    "with open(fileName,'rb') as f:\n",
    "    data=pickle.load(f)\n",
    "    dataset=data['features']\n",
    "    label_shoulder=data['label_1']\n",
    "    label_sleeve=data['label_2']\n",
    "    del data\n",
    "    f.close()"
   ]
  },
  {
   "cell_type": "code",
   "execution_count": 3,
   "metadata": {
    "collapsed": true
   },
   "outputs": [],
   "source": [
    "#used duplicate dataset to be suffled\n",
    "dataset_1=dataset\n",
    "dataset_2=dataset"
   ]
  },
  {
   "cell_type": "code",
   "execution_count": 4,
   "metadata": {},
   "outputs": [],
   "source": [
    "#Using Regression for Shoulder breadth prediction\n",
    "\n",
    "#suffle the dataset and label_shoulder\n",
    "def randomize_data(dataset,labels):\n",
    "    permutation=np.random.permutation(labels.shape[0])\n",
    "    dataset=dataset[permutation, :]\n",
    "    labels=labels[permutation]\n",
    "    return dataset.astype(np.float32),labels.astype(np.float32)\n"
   ]
  },
  {
   "cell_type": "code",
   "execution_count": 7,
   "metadata": {},
   "outputs": [
    {
     "name": "stdout",
     "output_type": "stream",
     "text": [
      "(1078, 2)\n",
      "(1078,)\n",
      "train_dataset : (970, 2)\n",
      "test_dataset : (108, 2)\n"
     ]
    }
   ],
   "source": [
    "dataset_1,label_shoulder=randomize_data(dataset_1,label_shoulder)\n",
    "\n",
    "print(dataset_1.shape)\n",
    "print(label_shoulder.shape)\n",
    "\n",
    "batch_offset=int(dataset_1.shape[0] * 0.9)\n",
    "train_dataset=dataset_1[:batch_offset, :]\n",
    "train_labels=label_shoulder[:batch_offset]\n",
    "\n",
    "test_dataset=dataset_1[batch_offset: , :]\n",
    "test_labels=label_shoulder[batch_offset: ]\n",
    "\n",
    "print(\"train_dataset :\",train_dataset.shape)\n",
    "print(\"test_dataset :\",test_dataset.shape)"
   ]
  },
  {
   "cell_type": "code",
   "execution_count": 16,
   "metadata": {},
   "outputs": [
    {
     "name": "stdout",
     "output_type": "stream",
     "text": [
      "MSE: 268.8535\n"
     ]
    }
   ],
   "source": [
    "reg = ensemble.GradientBoostingRegressor(n_estimators=500, max_depth=4,min_samples_leaf=1, min_samples_split=2,learning_rate=0.01, loss='ls')\n",
    "reg.fit(train_dataset,train_labels)\n",
    "pred = reg.predict(test_dataset)\n",
    "mse = mean_squared_error(test_labels, pred)\n",
    "print(\"MSE: %.4f\" % mse)"
   ]
  },
  {
   "cell_type": "code",
   "execution_count": 22,
   "metadata": {},
   "outputs": [
    {
     "name": "stdout",
     "output_type": "stream",
     "text": [
      "Predicted shoulder breadth (in mm) : [ 426.4618453]\n"
     ]
    }
   ],
   "source": [
    "example=np.array([['1676','812']])\n",
    "shoulder_breadth=reg.predict(example)\n",
    "print (\"Predicted shoulder breadth (in mm) :\", shoulder_breadth)"
   ]
  },
  {
   "cell_type": "code",
   "execution_count": 23,
   "metadata": {},
   "outputs": [
    {
     "name": "stdout",
     "output_type": "stream",
     "text": [
      "(1078, 2)\n",
      "(1078,)\n"
     ]
    }
   ],
   "source": [
    "#using Regression again for Sleeve Length\n",
    "\n",
    "#suffle the dataset and label_shoulder\n",
    "def randomize_data(dataset,labels):\n",
    "    permutation=np.random.permutation(labels.shape[0])\n",
    "    dataset=dataset[permutation, :]\n",
    "    labels=labels[permutation]\n",
    "    return dataset.astype(np.float32),labels.astype(np.float32)\n",
    "\n",
    "dataset_2,label_sleeve=randomize_data(dataset_2,label_sleeve)\n",
    "\n",
    "print(dataset_2.shape)\n",
    "print(label_sleeve.shape)\n",
    "\n"
   ]
  },
  {
   "cell_type": "code",
   "execution_count": 25,
   "metadata": {},
   "outputs": [
    {
     "name": "stdout",
     "output_type": "stream",
     "text": [
      "train_dataset : (970, 2)\n",
      "test_dataset : (108, 2)\n"
     ]
    }
   ],
   "source": [
    "batch_offset=int(dataset_2.shape[0] * 0.9)\n",
    "train_dataset=dataset_2[:batch_offset, :]\n",
    "train_labels=label_sleeve[:batch_offset]\n",
    "\n",
    "test_dataset=dataset_2[batch_offset: , :]\n",
    "test_labels=label_sleeve[batch_offset: ]\n",
    "\n",
    "print(\"train_dataset :\",train_dataset.shape)\n",
    "print(\"test_dataset :\",test_dataset.shape)"
   ]
  },
  {
   "cell_type": "code",
   "execution_count": 26,
   "metadata": {},
   "outputs": [
    {
     "name": "stdout",
     "output_type": "stream",
     "text": [
      "MSE: 131.2895\n"
     ]
    }
   ],
   "source": [
    "reg = ensemble.GradientBoostingRegressor(n_estimators=500, max_depth=4,min_samples_leaf=1, min_samples_split=2,learning_rate=0.01, loss='ls')\n",
    "reg.fit(train_dataset,train_labels)\n",
    "pred = reg.predict(test_dataset)\n",
    "mse = mean_squared_error(test_labels, pred)\n",
    "print(\"MSE: %.4f\" % mse)"
   ]
  },
  {
   "cell_type": "code",
   "execution_count": 27,
   "metadata": {},
   "outputs": [
    {
     "name": "stdout",
     "output_type": "stream",
     "text": [
      "Predicted sleeve length (in mm) : [ 444.84959851]\n"
     ]
    }
   ],
   "source": [
    "example=np.array([['1676','812']])\n",
    "sleeve_length=reg.predict(example)\n",
    "print (\"Predicted sleeve length (in mm) :\", sleeve_length)"
   ]
  },
  {
   "cell_type": "code",
   "execution_count": 32,
   "metadata": {},
   "outputs": [
    {
     "data": {
      "text/html": [
       "<div>\n",
       "<style>\n",
       "    .dataframe thead tr:only-child th {\n",
       "        text-align: right;\n",
       "    }\n",
       "\n",
       "    .dataframe thead th {\n",
       "        text-align: left;\n",
       "    }\n",
       "\n",
       "    .dataframe tbody tr th {\n",
       "        vertical-align: top;\n",
       "    }\n",
       "</style>\n",
       "<table border=\"1\" class=\"dataframe\">\n",
       "  <thead>\n",
       "    <tr style=\"text-align: right;\">\n",
       "      <th></th>\n",
       "      <th>WEIGHT(N)</th>\n",
       "      <th>HEIGHT(mm)</th>\n",
       "      <th>HEAD CIRCUMFERENCE(mm)</th>\n",
       "      <th>SHOULDER BREADTH(mm)</th>\n",
       "      <th>HAND LENGTH(mm)</th>\n",
       "      <th>CHEST CIRCUMFERENCE(mm)</th>\n",
       "      <th>WAIST CIRCUMFERENCE(mm)</th>\n",
       "      <th>SLEEVE LENGTH(mm)</th>\n",
       "      <th>AGE (months)</th>\n",
       "    </tr>\n",
       "  </thead>\n",
       "  <tbody>\n",
       "    <tr>\n",
       "      <th>0</th>\n",
       "      <td>256</td>\n",
       "      <td>1278</td>\n",
       "      <td>505</td>\n",
       "      <td>298</td>\n",
       "      <td>138</td>\n",
       "      <td>602</td>\n",
       "      <td>553</td>\n",
       "      <td>352.0</td>\n",
       "      <td>120</td>\n",
       "    </tr>\n",
       "  </tbody>\n",
       "</table>\n",
       "</div>"
      ],
      "text/plain": [
       "   WEIGHT(N)  HEIGHT(mm)  HEAD CIRCUMFERENCE(mm)  SHOULDER BREADTH(mm)  \\\n",
       "0        256        1278                     505                   298   \n",
       "\n",
       "   HAND LENGTH(mm)  CHEST CIRCUMFERENCE(mm)  WAIST CIRCUMFERENCE(mm)  \\\n",
       "0              138                      602                      553   \n",
       "\n",
       "   SLEEVE LENGTH(mm)  AGE (months)  \n",
       "0              352.0           120  "
      ]
     },
     "execution_count": 32,
     "metadata": {},
     "output_type": "execute_result"
    }
   ],
   "source": [
    "#read pickle file to a 4 feature matrix and size label\n",
    "import pandas as pd\n",
    "file='./MLD.csv'\n",
    "data=pd.read_csv(file)\n",
    "data.head(1)\n"
   ]
  },
  {
   "cell_type": "code",
   "execution_count": 33,
   "metadata": {},
   "outputs": [],
   "source": [
    "label_final=data['CHEST CIRCUMFERENCE(mm)']\n",
    "feature=data.drop(['WEIGHT(N)','HEAD CIRCUMFERENCE(mm)','HAND LENGTH(mm)','CHEST CIRCUMFERENCE(mm)','AGE (months)'],axis=1)\n",
    "del data\n",
    "label_final=np.array(label_final)\n",
    "feature=np.array(feature)\n",
    "from six.moves import cPickle as pickle\n",
    "import os\n",
    "root='.'\n",
    "pickle_file=os.path.join(root,'size_dataset.pickle')\n",
    "with open(pickle_file,'wb') as f:\n",
    "    save={\n",
    "    'label_final':label_final,\n",
    "    'features':feature,\n",
    "    }\n",
    "    pickle.dump(save,f,pickle.HIGHEST_PROTOCOL)\n",
    "    f.close()\n"
   ]
  },
  {
   "cell_type": "code",
   "execution_count": 35,
   "metadata": {},
   "outputs": [],
   "source": [
    "fileName='./size_dataset.pickle'\n",
    "with open(fileName,'rb') as f:\n",
    "    data=pickle.load(f)\n",
    "    dataset=data['features']\n",
    "    label_size=data['label_final']\n",
    "    \n",
    "    del data\n",
    "    f.close()"
   ]
  },
  {
   "cell_type": "code",
   "execution_count": 36,
   "metadata": {},
   "outputs": [
    {
     "name": "stdout",
     "output_type": "stream",
     "text": [
      "(1078, 4)\n",
      "(1078,)\n",
      "train_dataset : (970, 4)\n",
      "test_dataset : (108, 4)\n"
     ]
    }
   ],
   "source": [
    "#suffle the dataset and label_shoulder\n",
    "def randomize_data(dataset,labels):\n",
    "    permutation=np.random.permutation(labels.shape[0])\n",
    "    dataset=dataset[permutation, :]\n",
    "    labels=labels[permutation]\n",
    "    return dataset.astype(np.float32),labels.astype(np.float32)\n",
    "\n",
    "dataset,label_size=randomize_data(dataset,label_size)\n",
    "\n",
    "print(dataset.shape)\n",
    "print(label_size.shape)\n",
    "\n",
    "batch_offset=int(dataset.shape[0] * 0.9)\n",
    "train_dataset=dataset[:batch_offset, :]\n",
    "train_labels=label_size[:batch_offset]\n",
    "\n",
    "test_dataset=dataset[batch_offset: , :]\n",
    "test_labels=label_size[batch_offset: ]\n",
    "\n",
    "print(\"train_dataset :\",train_dataset.shape)\n",
    "print(\"test_dataset :\",test_dataset.shape)"
   ]
  },
  {
   "cell_type": "code",
   "execution_count": 58,
   "metadata": {},
   "outputs": [
    {
     "name": "stdout",
     "output_type": "stream",
     "text": [
      "MSE: 850.6831\n"
     ]
    }
   ],
   "source": [
    "reg = ensemble.GradientBoostingRegressor(n_estimators=500, max_depth=3,min_samples_leaf=2, min_samples_split=3,learning_rate=0.01, loss='ls')\n",
    "reg.fit(train_dataset,train_labels)\n",
    "pred = reg.predict(test_dataset)\n",
    "mse = mean_squared_error(test_labels, pred)\n",
    "print(\"MSE: %.4f\" % mse)"
   ]
  },
  {
   "cell_type": "code",
   "execution_count": 61,
   "metadata": {},
   "outputs": [
    {
     "name": "stdout",
     "output_type": "stream",
     "text": [
      "predicted shirt size(in mm) : [ 900.88344074]\n"
     ]
    }
   ],
   "source": [
    "final_example=[['1676',shoulder_breadth,'812',sleeve_length]]\n",
    "predicted_size=reg.predict(final_example)\n",
    "print(\"predicted shirt size(in mm) :\",predicted_size)"
   ]
  },
  {
   "cell_type": "code",
   "execution_count": null,
   "metadata": {
    "collapsed": true
   },
   "outputs": [],
   "source": []
  }
 ],
 "metadata": {
  "kernelspec": {
   "display_name": "Python 3",
   "language": "python",
   "name": "python3"
  },
  "language_info": {
   "codemirror_mode": {
    "name": "ipython",
    "version": 3
   },
   "file_extension": ".py",
   "mimetype": "text/x-python",
   "name": "python",
   "nbconvert_exporter": "python",
   "pygments_lexer": "ipython3",
   "version": "3.6.2"
  }
 },
 "nbformat": 4,
 "nbformat_minor": 2
}
